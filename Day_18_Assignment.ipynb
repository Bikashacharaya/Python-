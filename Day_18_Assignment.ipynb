{
  "nbformat": 4,
  "nbformat_minor": 0,
  "metadata": {
    "colab": {
      "name": "Day-18 Assignment",
      "provenance": [],
      "authorship_tag": "ABX9TyOqaRClgA9A7E2JoI4qIm7P",
      "include_colab_link": true
    },
    "kernelspec": {
      "name": "python3",
      "display_name": "Python 3"
    }
  },
  "cells": [
    {
      "cell_type": "markdown",
      "metadata": {
        "id": "view-in-github",
        "colab_type": "text"
      },
      "source": [
        "<a href=\"https://colab.research.google.com/github/Akshatpattiwar512/LetsUpgrade-Advanced-python-and-Django/blob/main/Day_18_Assignment.ipynb\" target=\"_parent\"><img src=\"https://colab.research.google.com/assets/colab-badge.svg\" alt=\"Open In Colab\"/></a>"
      ]
    },
    {
      "cell_type": "code",
      "metadata": {
        "id": "VASnlbFIU1aK"
      },
      "source": [
        "import os\n",
        "root=\"D:\\\\companies\\\\google\"\n",
        "for root,dir,files in os.walk(root):\n",
        "  for f in files:\n",
        "    path=root+\"\\\\\"+f\n",
        "    print(path)\n",
        "\n",
        "def check_string_in_file(f, string_to_search):\n",
        "    with open(file_name, 'r') as read_obj:\n",
        "        for line in read_obj:\n",
        "            if string_to_search in line:\n",
        "                return True\n",
        "    return False\n",
        "    with open(f) as myFile:\n",
        "        for num, line in enumerate(myFile, 1):\n",
        "             if lookup in line:\n",
        "               print('found at line:', num)"
      ],
      "execution_count": 5,
      "outputs": []
    },
    {
      "cell_type": "code",
      "metadata": {
        "id": "_QDOVW5i9W_v"
      },
      "source": [
        ""
      ],
      "execution_count": null,
      "outputs": []
    }
  ]
}