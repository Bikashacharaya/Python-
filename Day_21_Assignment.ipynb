{
  "nbformat": 4,
  "nbformat_minor": 0,
  "metadata": {
    "colab": {
      "name": "Day-21 Assignment",
      "provenance": [],
      "authorship_tag": "ABX9TyMxnJU9cBz7uFnTxYufsRe9",
      "include_colab_link": true
    },
    "kernelspec": {
      "name": "python3",
      "display_name": "Python 3"
    }
  },
  "cells": [
    {
      "cell_type": "markdown",
      "metadata": {
        "id": "view-in-github",
        "colab_type": "text"
      },
      "source": [
        "<a href=\"https://colab.research.google.com/github/Akshatpattiwar512/LetsUpgrade-Advanced-python-and-Django/blob/main/Day_21_Assignment.ipynb\" target=\"_parent\"><img src=\"https://colab.research.google.com/assets/colab-badge.svg\" alt=\"Open In Colab\"/></a>"
      ]
    },
    {
      "cell_type": "code",
      "metadata": {
        "id": "Q1z8JoIFj9Ou",
        "outputId": "f0aec246-c552-401e-96c4-a15575788bb7",
        "colab": {
          "base_uri": "https://localhost:8080/"
        }
      },
      "source": [
        "from collections import Counter\n",
        "class MyCounter(Counter):\n",
        "  def __call__(self,Counter):\n",
        "    self.Counter=Counter\n",
        "    print(Counter)\n",
        "        \n",
        "co1 = MyCounter()\n",
        "co1(\"intel\")\n",
        "  \n",
        "        "
      ],
      "execution_count": 28,
      "outputs": [
        {
          "output_type": "stream",
          "text": [
            "intel\n"
          ],
          "name": "stdout"
        }
      ]
    }
  ]
}