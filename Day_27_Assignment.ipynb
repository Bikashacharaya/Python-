{
  "nbformat": 4,
  "nbformat_minor": 0,
  "metadata": {
    "colab": {
      "name": "Day27 Assignment",
      "provenance": [],
      "authorship_tag": "ABX9TyMOv0pnu/AJxk8pievgyZbQ",
      "include_colab_link": true
    },
    "kernelspec": {
      "name": "python3",
      "display_name": "Python 3"
    }
  },
  "cells": [
    {
      "cell_type": "markdown",
      "metadata": {
        "id": "view-in-github",
        "colab_type": "text"
      },
      "source": [
        "<a href=\"https://colab.research.google.com/github/Akshatpattiwar512/LetsUpgrade-Advanced-python-and-Django/blob/main/Day27_Assignment.ipynb\" target=\"_parent\"><img src=\"https://colab.research.google.com/assets/colab-badge.svg\" alt=\"Open In Colab\"/></a>"
      ]
    },
    {
      "cell_type": "code",
      "metadata": {
        "id": "i8E4_S_3lpGz",
        "outputId": "522cc500-ba1b-45f3-8cb9-59f5b40e19ab",
        "colab": {
          "base_uri": "https://localhost:8080/"
        }
      },
      "source": [
        "import datetime\n",
        "main_list = list(range(100000000))\n",
        "list1=[]\n",
        "t1 = datetime.datetime.now()\n",
        "for each in main_list:\n",
        "  (each**2)\n",
        "  list1.append(each)\n",
        "for each in list1:\n",
        "   each\n",
        "t2 = datetime.datetime.now()\n",
        "print (\"Using loop\",t2-t1)\n",
        "\n",
        "list2=[]\n",
        "t3=datetime.datetime.now()\n",
        "for i in main_list:\n",
        "  i**2\n",
        "  list2.append(i)\n",
        "lis1 = iter(list2)\n",
        "t4=datetime.datetime.now()\n",
        "\n",
        "print (\"Using iterator:\",t4-t3)\n",
        "\n",
        "list3=[]\n",
        "t5 = datetime.datetime.now()\n",
        "def PowTwoGen(max=100000000):\n",
        "    n = 0\n",
        "    while n < max:\n",
        "        yield n ** 2\n",
        "        n += 1\n",
        "for b in PowTwoGen(max=100000000):\n",
        " b\n",
        "t6 = datetime.datetime.now()\n",
        "print(\"Using generator:\",t6-t5)"
      ],
      "execution_count": 2,
      "outputs": [
        {
          "output_type": "stream",
          "text": [
            "Using loop 0:00:41.408867\n",
            "Using iterator: 0:00:39.873537\n",
            "Using generator: 0:00:34.491216\n"
          ],
          "name": "stdout"
        }
      ]
    }
  ]
}