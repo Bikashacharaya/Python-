{
  "nbformat": 4,
  "nbformat_minor": 0,
  "metadata": {
    "colab": {
      "name": "Day 26 Assignment",
      "provenance": [],
      "authorship_tag": "ABX9TyNFZ/PpQcK/T70F1DnYqTHZ",
      "include_colab_link": true
    },
    "kernelspec": {
      "name": "python3",
      "display_name": "Python 3"
    }
  },
  "cells": [
    {
      "cell_type": "markdown",
      "metadata": {
        "id": "view-in-github",
        "colab_type": "text"
      },
      "source": [
        "<a href=\"https://colab.research.google.com/github/Akshatpattiwar512/LetsUpgrade-Advanced-python-and-Django/blob/main/Day_26_Assignment.ipynb\" target=\"_parent\"><img src=\"https://colab.research.google.com/assets/colab-badge.svg\" alt=\"Open In Colab\"/></a>"
      ]
    },
    {
      "cell_type": "code",
      "metadata": {
        "id": "Z7LnTTWz-wR9",
        "outputId": "f22f85b5-76b1-4d10-bd1c-0694a471a851",
        "colab": {
          "base_uri": "https://localhost:8080/"
        }
      },
      "source": [
        "                                                   #Shallow copy\n",
        "list1=['a',7,'er',21]\n",
        "list2=['ytr',857,3,'y']\n",
        "list3=list1[:]\n",
        "print(list1,'#This is list1')\n",
        "print(list3,'#This is list3')\n",
        "print(id(list1))\n",
        "print(id(list3))\n",
        "list3 is list1"
      ],
      "execution_count": 15,
      "outputs": [
        {
          "output_type": "stream",
          "text": [
            "['a', 7, 'er', 21] #This is list1\n",
            "['a', 7, 'er', 21] #This is list3\n",
            "140317011895816\n",
            "140317143863240\n"
          ],
          "name": "stdout"
        },
        {
          "output_type": "execute_result",
          "data": {
            "text/plain": [
              "False"
            ]
          },
          "metadata": {
            "tags": []
          },
          "execution_count": 15
        }
      ]
    },
    {
      "cell_type": "code",
      "metadata": {
        "id": "VKiYjNu__7s7",
        "outputId": "2d2ca93d-befe-4927-bc6f-18146b8afa60",
        "colab": {
          "base_uri": "https://localhost:8080/"
        }
      },
      "source": [
        "list1.append('nvidia')\n",
        "list4=list(list1)\n",
        "print(list1,'#This is appended list1')\n",
        "print(list4,'#This is list4')\n",
        "print(id(list1))\n",
        "print(id(list4))\n",
        "list4 is list1"
      ],
      "execution_count": 16,
      "outputs": [
        {
          "output_type": "stream",
          "text": [
            "['a', 7, 'er', 21, 'nvidia'] #This is appended list1\n",
            "['a', 7, 'er', 21, 'nvidia'] #This is list4\n",
            "140317011895816\n",
            "140317143805640\n"
          ],
          "name": "stdout"
        },
        {
          "output_type": "execute_result",
          "data": {
            "text/plain": [
              "False"
            ]
          },
          "metadata": {
            "tags": []
          },
          "execution_count": 16
        }
      ]
    },
    {
      "cell_type": "code",
      "metadata": {
        "id": "KZCw0LJuCSMY",
        "outputId": "fa48e7bf-58ac-4b49-86ed-7232d02b3610",
        "colab": {
          "base_uri": "https://localhost:8080/"
        }
      },
      "source": [
        "                                                           #Deepcopy\n",
        "from copy import deepcopy\n",
        "list5=[5,43,['hi']]\n",
        "list6=deepcopy(list5)\n",
        "print(list6)"
      ],
      "execution_count": 17,
      "outputs": [
        {
          "output_type": "stream",
          "text": [
            "[5, 43, ['hi']]\n"
          ],
          "name": "stdout"
        }
      ]
    },
    {
      "cell_type": "code",
      "metadata": {
        "id": "xKspYce3ES3R",
        "outputId": "fd7be4d7-2838-4df7-d21a-bcdfbb61c004",
        "colab": {
          "base_uri": "https://localhost:8080/"
        }
      },
      "source": [
        "list5.append(8)\n",
        "print(list5,'#This is appended list5')\n",
        "print(list6,'#This is list6')"
      ],
      "execution_count": 18,
      "outputs": [
        {
          "output_type": "stream",
          "text": [
            "[5, 43, ['hi'], 8] #This is appended list5\n",
            "[5, 43, ['hi']] #This is list6\n"
          ],
          "name": "stdout"
        }
      ]
    },
    {
      "cell_type": "code",
      "metadata": {
        "id": "2jPysAqKE0uB",
        "outputId": "d46b7ed2-b0a8-4daf-c80c-794c02712082",
        "colab": {
          "base_uri": "https://localhost:8080/"
        }
      },
      "source": [
        "list5[2].append('inspiron')\n",
        "print(list5,'#This is list5')\n",
        "print(list6,'#This is list6')"
      ],
      "execution_count": 24,
      "outputs": [
        {
          "output_type": "stream",
          "text": [
            "[5, 43, ['hi', 'inspiron'], 8] #This is list5\n",
            "[5, 43, ['hi']] #This is list6\n"
          ],
          "name": "stdout"
        }
      ]
    }
  ]
}